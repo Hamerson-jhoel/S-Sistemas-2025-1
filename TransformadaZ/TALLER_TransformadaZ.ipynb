{
  "nbformat": 4,
  "nbformat_minor": 0,
  "metadata": {
    "kernelspec": {
      "display_name": "Python 3",
      "language": "python",
      "name": "python3"
    },
    "language_info": {
      "codemirror_mode": {
        "name": "ipython",
        "version": 3
      },
      "file_extension": ".py",
      "mimetype": "text/x-python",
      "name": "python",
      "nbconvert_exporter": "python",
      "pygments_lexer": "ipython3",
      "version": "3.7.1"
    },
    "colab": {
      "provenance": [],
      "include_colab_link": true
    }
  },
  "cells": [
    {
      "cell_type": "markdown",
      "metadata": {
        "id": "view-in-github",
        "colab_type": "text"
      },
      "source": [
        "<a href=\"https://colab.research.google.com/github/Hamerson-jhoel/S-Sistemas-2025-1/blob/main/TransformadaZ/TALLER_TransformadaZ.ipynb\" target=\"_parent\"><img src=\"https://colab.research.google.com/assets/colab-badge.svg\" alt=\"Open In Colab\"/></a>"
      ]
    },
    {
      "cell_type": "markdown",
      "source": [
        "#**TALLER TRANSFORMADA Z**\n",
        "#**Hamerson Joel Piarpuezan Piarpuezan**\n",
        "#**1004531735**"
      ],
      "metadata": {
        "id": "nmRwSIxPB9ht"
      }
    },
    {
      "cell_type": "markdown",
      "source": [
        "#**Punto 1**\n",
        "Consulte y realice los ejercicios del cuaderno TransformadaZ.\n",
        "\n",
        "https://github.com/Hamerson-jhoel/S-Sistemas-2025-1/blob/main/TransformadaZ/Ejercicios_TransformadaZ.ipynb"
      ],
      "metadata": {
        "id": "Tpg-t8icCJtw"
      }
    },
    {
      "cell_type": "markdown",
      "source": [
        "#**Punto 2**\n",
        "Explique las semejanzas y diferencias entre la serie de Fou\n",
        "rier, transformada de Fourier en tiempo continuo y discreto,\n",
        "transformada de Laplace y la transformada Z.\n",
        "\n"
      ],
      "metadata": {
        "id": "dj8BRH8UCqVP"
      }
    },
    {
      "cell_type": "markdown",
      "source": [
        "#**Similitudes y Diferencias entre Transformadas**\n",
        "#**Serie de Fourier**\n",
        "- Qué es: Representa una señal periódica como una suma de senos y cosenos (o exponenciales complejas) en frecuencias discretas.\n",
        "- Dominio: Tiempo (periódico) -> Frecuencia (discreta).\n",
        "- Usos: Análisis de señales periódicas, resolver ecuaciones diferenciales con entradas periódicas.\n",
        "#**Transformada de Fourier de Tiempo Continuo (CTFT)**\n",
        "- Qué es: Representa una señal de tiempo continuo no periódica como un espectro continuo de frecuencias.\n",
        "- Dominio: Tiempo (continuo, no periódico) -> Frecuencia (continua).\n",
        "- Usos: Análisis de señales no periódicas, diseño de filtros, sistemas de comunicación.\n",
        "- Relación con Serie de Fourier: La Serie de Fourier es un caso especial de la CTFT para señales periódicas.\n",
        "#**Transformada de Fourier de Tiempo Discreto (DTFT)**\n",
        "- Qué es: Representa una señal de tiempo discreto no periódica como un espectro continuo de frecuencias.\n",
        "- Dominio: Tiempo (discreto, no periódico) -> Frecuencia (continua).\n",
        "- Usos: Análisis de señales de tiempo discreto, diseño de filtros digitales, procesamiento digital de señales.\n",
        "- Relación con CTFT: La DTFT es el equivalente en tiempo discreto de la CTFT.\n",
        "#**Transformada de Laplace**\n",
        "- Qué es: Generalización de la CTFT. Transforma una señal de tiempo continuo al dominio de la frecuencia compleja (plano s). Maneja señales que crecen o decaen exponencialmente.\n",
        "- Dominio: Tiempo (continuo) -> Plano s (frecuencia compleja).\n",
        "- Usos: Resolver ecuaciones diferenciales LTI, análisis de estabilidad de sistemas, análisis de circuitos.\n",
        "- Relación con CTFT: La CTFT es un caso especial de la Transformada de Laplace cuando la parte real de 's' es cero.\n",
        "#**Transformada Z**\n",
        "- Qué es: Generalización de la DTFT. Transforma una señal de tiempo discreto al dominio de la frecuencia compleja (plano z). Equivalente discreto de la Transformada de Laplace. Maneja señales que crecen o decaen exponencialmente.\n",
        "- Dominio: Tiempo (discreto) -> Plano z (frecuencia compleja).\n",
        "- Usos: Resolver ecuaciones de diferencia LTI, análisis de estabilidad de sistemas de tiempo discreto, diseño de filtros digitales.\n",
        "- Relación con DTFT: La DTFT es un caso especial de la Transformada Z cuando |z| = 1.\n",
        "- Relación con Transformada de Laplace: La Transformada Z es el equivalente en tiempo discreto de la Transformada de Laplace.\n",
        "#**Similitudes**\n",
        "- Todas transforman señales/sistemas del dominio del tiempo a un dominio de frecuencia/frecuencia compleja.\n",
        "- Proporcionan información sobre el contenido de frecuencia y comportamiento.\n",
        "- Simplifican el análisis de sistemas LTI (convolución en tiempo ->   multiplicación en frecuencia).\n",
        "#**Diferencias**\n",
        "- Tipo de Señal: Periódicas vs. No periódicas, Continuas vs. Discretas.\n",
        "- Dominio de Salida: Frecuencia discreta, frecuencia continua, plano s, plano z.\n",
        "- Manejo de Crecimiento/Decaimiento: Laplace y Z pueden manejar señales exponenciales.\n",
        "- Aplicaciones Específicas: Cada una es más adecuada para ciertos tipos de sistemas o análisis."
      ],
      "metadata": {
        "id": "js5GozIsD3zy"
      }
    },
    {
      "cell_type": "markdown",
      "source": [
        "#**Punto 3**\n",
        "Encuentra la transformada Z para las siguientes señales:\n",
        "https://github.com/Hamerson-jhoel/S-Sistemas-2025-1/blob/main/TransformadaZ/Punto3-TransformadaZ.pdf"
      ],
      "metadata": {
        "id": "C3qrac9cFJuS"
      }
    },
    {
      "cell_type": "markdown",
      "source": [
        "#**Punto 4**\n",
        "Consulte en que consisten los filtros de respuesta impulso fi\n",
        "nita (Finite impulse response- FIR) y los filtros de respuesta\n",
        " impulso infinita (infinite impulse response- IIR). Realice un\n",
        " paralelo entre los FIR, IIR y los sistemas con y sin realimen\n",
        "tacion"
      ],
      "metadata": {
        "id": "OOJvBUMJNpKv"
      }
    },
    {
      "cell_type": "markdown",
      "source": [
        "\n",
        "# **Filtros de Respuesta al Impulso Finita (FIR) y Respuesta al Impulso Infinita (IIR)**\n",
        "\n",
        "## **¿Qué son los filtros FIR?**\n",
        "\n",
        "- **Definición:** Los filtros FIR (Finite Impulse Response) son filtros digitales cuya respuesta al impulso es de duración finita. Es decir, la salida del filtro ante una entrada impulso unitario se vuelve exactamente cero después de un número finito de muestras.\n",
        "\n",
        "- **Estructura:** Se implementan como una suma ponderada de las entradas actuales y pasadas. No incluyen salidas pasadas, por lo tanto **no tienen realimentación**.\n",
        "\n",
        "- **Función de Transferencia:** En el dominio Z, su función de transferencia es un polinomio en \\( z^{-1} \\). Todos los polos están en \\( z = 0 \\).\n",
        "\n",
        "- **Ventajas:**\n",
        "  - Siempre estables (por su estructura sin realimentación).\n",
        "  - Se pueden diseñar con **fase lineal**, lo que evita distorsión en la señal.\n",
        "  - Sencillos de analizar y controlar.\n",
        "\n",
        "- **Desventajas:**\n",
        "  - Para lograr ciertas respuestas en frecuencia necesitan órdenes altos (más coeficientes).\n",
        "  - Mayor carga computacional en comparación con IIR para una misma especificación.\n",
        "\n",
        "\n",
        "\n",
        "## **¿Qué son los filtros IIR?**\n",
        "\n",
        "- **Definición:** Los filtros IIR (Infinite Impulse Response) tienen una respuesta al impulso que nunca se vuelve exactamente cero; en teoría, dura para siempre (aunque puede decaer gradualmente).\n",
        "\n",
        "- **Estructura:** Se implementan utilizando tanto entradas como **salidas pasadas**, es decir, **tienen realimentación**.\n",
        "\n",
        "- **Función de Transferencia:** Es una función racional en \\( z^{-1} \\), con ceros y polos. Los polos pueden estar en cualquier parte del plano Z, lo cual afecta la estabilidad.\n",
        "\n",
        "- **Ventajas:**\n",
        "  - Requieren menos coeficientes (menor orden) para lograr respuestas similares a los FIR.\n",
        "  - Menor uso de memoria y procesamiento.\n",
        "\n",
        "- **Desventajas:**\n",
        "  - **Pueden ser inestables** si los polos no están dentro del círculo unitario.\n",
        "  - Generalmente tienen **fase no lineal**, lo cual puede distorsionar ciertas señales como el audio.\n",
        "\n",
        "\n",
        "\n",
        "## **Paralelo entre Filtros FIR, IIR y Sistemas con/sin Realimentación**\n",
        "\n",
        "| Característica                  | FIR                             | IIR                              |\n",
        "|-------------------------------|----------------------------------|----------------------------------|\n",
        "| Respuesta al impulso           | Finita                          | Infinita                         |\n",
        "| Realimentación                 | No                              | Sí                               |\n",
        "| Estabilidad                    | Siempre estable                 | Puede ser inestable              |\n",
        "| Fase lineal                    | Fácil de obtener                | Generalmente no lineal           |\n",
        "| Orden necesario                | Mayor                           | Menor                            |\n",
        "| Estructura                    | No usa salidas pasadas          | Usa salidas pasadas              |\n",
        "| Función de transferencia       | Polinomio en \\( z^{-1} \\)       | Racional en \\( z^{-1} \\)         |\n",
        "\n",
        "\n",
        "\n",
        "## **Relación con Sistemas con y sin Realimentación**\n",
        "\n",
        "- **Sistemas sin realimentación:**\n",
        "  - La salida depende solo de entradas actuales y pasadas.\n",
        "  - No hay bucles de retroalimentación.\n",
        "  - La respuesta al impulso se apaga en un número finito de muestras.\n",
        "  - **Ejemplo:** Filtro FIR.\n",
        "\n",
        "- **Sistemas con realimentación:**\n",
        "  - La salida depende de entradas actuales y pasadas, y de salidas pasadas.\n",
        "  - Existe al menos un bucle de retroalimentación.\n",
        "  - La respuesta al impulso puede durar infinitamente.\n",
        "  - **Ejemplo:** Filtro IIR.\n",
        "\n"
      ],
      "metadata": {
        "id": "z1stEynyNjCq"
      }
    },
    {
      "cell_type": "markdown",
      "source": [
        "#**Punto 5**"
      ],
      "metadata": {
        "id": "Ff9q3YmLMyjR"
      }
    },
    {
      "cell_type": "markdown",
      "source": [
        "# **Comparación entre Invarianza al Impulso y Transformación Bilineal**\n",
        "\n",
        "## **1. Introducción**\n",
        "\n",
        "Al diseñar filtros digitales a partir de filtros analógicos, es común usar dos métodos principales de transformación:\n",
        "\n",
        "- **Invarianza al impulso (Impulse Invariant Method)**\n",
        "- **Transformación bilineal (Bilinear Transformation)**\n",
        "\n",
        "Ambos métodos buscan convertir un filtro analógico \\( H(s) \\) en un filtro digital \\( H(z) \\), pero lo hacen de formas distintas y con consecuencias diferentes.\n",
        "\n",
        "\n",
        "\n",
        "## **2. Invarianza al Impulso**\n",
        "\n",
        "###  Descripción:\n",
        "- Esta técnica **muestrea la respuesta al impulso del sistema analógico** para obtener la respuesta digital.\n",
        "- La idea es preservar la forma temporal de la respuesta al impulso entre el sistema analógico y el digital.\n",
        "\n",
        "###  Proceso:\n",
        "1. Obtener \\( h(t) \\), la respuesta al impulso del sistema analógico.\n",
        "2. Muestrear \\( h(t) \\) en intervalos \\( t = nT \\) para obtener \\( h[n] \\).\n",
        "3. Calcular la transformada Z de \\( h[n] \\) para obtener \\( H(z) \\).\n",
        "\n",
        "###  Características:\n",
        "- **Preserva la forma de la respuesta al impulso.**\n",
        "- La **respuesta en frecuencia se replica** (aliasing) debido al muestreo.\n",
        "\n",
        "### Inconvenientes:\n",
        "- **No preserva la respuesta en frecuencia** del sistema analógico, especialmente si hay aliasing.\n",
        "- Requiere filtros analógicos con energía limitada (causa problemas con integradores).\n",
        "\n",
        "\n",
        "## **3. Transformación Bilineal**\n",
        "\n",
        "###  Descripción:\n",
        "- Técnica que **transforma directamente la función de transferencia analógica \\( H(s) \\)** al dominio \\( z \\) mediante un mapeo no lineal de frecuencias.\n",
        "\n",
        "### Sustitución usada:\n",
        "$$\n",
        "s = \\frac{2}{T} \\cdot \\frac{1 - z^{-1}}{1 + z^{-1}}\n",
        "$$\n",
        "\n",
        "\n",
        "### Características:\n",
        "- **No produce aliasing**, ya que el mapeo es único entre \\( \\omega \\) (analógico) y \\( \\Omega \\) (digital).\n",
        "- **Preserva la estabilidad**: los polos en el semiplano izquierdo de \\( s \\) se mapean dentro del círculo unitario en \\( z \\).\n",
        "\n",
        "### Inconvenientes:\n",
        "- **Distorsiona la frecuencia** (compresión de altas frecuencias).\n",
        "- Se requiere **prewarping** (preajuste de frecuencia) si se quiere mantener la precisión en ciertas bandas.\n",
        "\n",
        "\n",
        "\n",
        "## **4. Comparación Resumida**\n",
        "\n",
        "| Característica                     | Invarianza al Impulso                | Transformación Bilineal              |\n",
        "|----------------------------------|-------------------------------------|--------------------------------------|\n",
        "| ¿Qué preserva?                   | Forma de la respuesta al impulso     | Mapeo único de frecuencias           |\n",
        "| Aliasing                         | Sí (por muestreo)                   | No                                   |\n",
        "| Estabilidad                      | Se preserva                         | Se preserva                          |\n",
        "| Frecuencia                       | No preserva la forma espectral      | Preserva orden de la respuesta, pero con distorsión (warping) |\n",
        "| Simplicidad                     | Simple si se conoce la respuesta al impulso | Requiere álgebra simbólica (sustitución en \\( H(s) \\)) |\n",
        "| Uso recomendado                 | Filtros pasa bajos con respuesta lenta | Filtros de propósito general (pasa banda, stop, etc.) |\n",
        "| Aplicaciones típicas            | Audio, modelos simples              | Comunicaciones, control digital, procesamiento preciso |\n",
        "\n",
        "\n",
        "\n",
        "## Conclusión\n",
        "\n",
        "- La **invarianza al impulso** es útil cuando se desea mantener la forma temporal de la respuesta del filtro analógico, pero puede introducir aliasing si no se toma cuidado.\n",
        "- La **transformación bilineal**, aunque distorsiona la frecuencia, evita el aliasing y garantiza estabilidad, por lo que es preferida para **diseños más precisos y robustos**.\n",
        "\n"
      ],
      "metadata": {
        "id": "jDnjvJBpN7Kq"
      }
    },
    {
      "cell_type": "markdown",
      "source": [
        "#**Punto 6**\n",
        "#La dashboard FILTROS TIPO IIR O FIR, en el siguiente link : https://github.com/Hamerson-jhoel/S-Sistemas-2025-1/blob/main/TransformadaZ/DASHBOARD_Filtros_FIR_IIR.ipynb"
      ],
      "metadata": {
        "id": "13kTZOZWPZkC"
      }
    }
  ]
}